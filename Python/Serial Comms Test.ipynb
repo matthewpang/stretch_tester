{
 "cells": [
  {
   "cell_type": "code",
   "execution_count": 9,
   "metadata": {
    "collapsed": false
   },
   "outputs": [
    {
     "name": "stdout",
     "output_type": "stream",
     "text": [
      "0\n",
      "65280\n",
      "0.0007550716400146484\n"
     ]
    }
   ],
   "source": [
    "__author__ = 'matthewpang'\n",
    "\n",
    "import serial\n",
    "import time\n",
    "import pickle\n",
    "import struct\n",
    "\n",
    "serStepper = serial.Serial('/dev/cu.usbmodem1421', 230400)\n",
    "\n",
    "def output_encoder(value):\n",
    "    \"\"\"\n",
    "    Takes a 16 bit integer value, packs it little endian, then encapsulates it in the defined format\n",
    "    [0xAA,LSByte,MSByte,OxFF]\n",
    "    \"\"\"\n",
    "    b = struct.pack('<H', value)\n",
    "    output = bytearray(4)\n",
    "    output[0] = 0xAA\n",
    "    output[1] = b[0]\n",
    "    output[2] = b[1]\n",
    "    output[3] = 0xFF\n",
    "\n",
    "    return output\n",
    "\n",
    "def output_decoder(array):\n",
    "    \"\"\"\n",
    "    Takes a little endian byte array of format [0xAA,LSByte,MSByte,OxFF]\n",
    "    and returns the corresponding 16 bit integer value\n",
    "    \"\"\"\n",
    "    if len(array) != 4: #If the packet length is correct, otherwise return None\n",
    "        return None\n",
    "\n",
    "    if (array[0] == 0xAA) and (array[3] == 0XFF) and len(array) == 4: #Check that the packet has the correct start and end frame\n",
    "        a = array[2] << 8 | array[1]\n",
    "        return int(a)\n",
    "\n",
    "def serial_send(value):\n",
    "    \"\"\"\n",
    "    Accepts a 16 bit unsigned int , encodes it and sends it, returns the bytearray that was sent\n",
    "    \"\"\"\n",
    "    frame = output_encoder(value)\n",
    "    serStepper.write(frame)\n",
    "    print(str(value))\n",
    "    return frame\n",
    "\n",
    "def serial_receive():\n",
    "    \"\"\"\n",
    "    Waits up to 4 seconds for a response after being called, decodes the byte array and returns a 16 bit unsigned int\n",
    "    \"\"\"\n",
    "    timeout = time.time() + 5\n",
    "    while (serStepper.in_waiting <= 3) and (time.time() < timeout): # Wait until correct number of packets, timeout if waiting too long\n",
    "        time.sleep(0.0001)\n",
    "    else:\n",
    "        serial_read = (serStepper.read(serStepper.in_waiting))\n",
    "        val = output_decoder(serial_read)\n",
    "        print(str(val))\n",
    "    return val\n",
    "\n",
    "def arrival_wait():\n",
    "    timeout = time.time() + 10\n",
    "    while (serial_receive() != 0xFF00) and (time.time() <= timeout):\n",
    "        time.sleep(0.0001)\n",
    "    serStepper.reset_input_buffer()\n",
    "    serStepper.reset_output_buffer()\n",
    "\n",
    "def go(pos=0):\n",
    "    \"\"\"\n",
    "    Accepts a position and sends it serially.\n",
    "    Waits for arrival confirmation\n",
    "    #Optionally times the difference between instruction and respose - uncomment.\n",
    "    \"\"\"\n",
    "    \n",
    "    sent = time.time()\n",
    "    serial_send(pos)\n",
    "    arrival_wait()\n",
    "    received = time.time()\n",
    "    print(str(received - sent))\n",
    "\n",
    "    \n",
    "go(0x0000)"
   ]
  },
  {
   "cell_type": "code",
   "execution_count": null,
   "metadata": {
    "collapsed": true
   },
   "outputs": [],
   "source": []
  },
  {
   "cell_type": "code",
   "execution_count": null,
   "metadata": {
    "collapsed": true
   },
   "outputs": [],
   "source": []
  }
 ],
 "metadata": {
  "kernelspec": {
   "display_name": "Python 3",
   "language": "python",
   "name": "python3"
  },
  "language_info": {
   "codemirror_mode": {
    "name": "ipython",
    "version": 3
   },
   "file_extension": ".py",
   "mimetype": "text/x-python",
   "name": "python",
   "nbconvert_exporter": "python",
   "pygments_lexer": "ipython3",
   "version": "3.4.3"
  }
 },
 "nbformat": 4,
 "nbformat_minor": 0
}
